{
 "cells": [
  {
   "cell_type": "markdown",
   "id": "8d166a04-11a0-4cb2-9790-a583c0397a0a",
   "metadata": {},
   "source": [
    "# Introduction \n",
    "\n",
    "Public speaking and presentations are thought to be some of the most important skills in today's workforce. From LinkedIn learning to courses by professional associations, there are many resources to improve one's ability to clearly communicate with others. But what would happen if we nixed these trainings and relied on Generative AI to convey our complex ideas to others in professional settings? \n",
    "\n",
    "Part 1 of this paper includes a discussion of how traditional sources and ChatGPT 4o each define business presentation best practices."
   ]
  },
  {
   "cell_type": "markdown",
   "id": "b1a8074a-2f3b-4fa5-8ea3-3418c8b82681",
   "metadata": {},
   "source": [
    "# Part 1: What are business presentation best practices? \n",
    "## Business Communications according to Traditional Sources\n",
    "\n",
    "Without the use of Generative AI, business professionals receive trainings about how to communicate most effectively with their peers. Some of the most important messages that I learned when taking a presentation class by the National Association for Business Economics include: \n",
    "\n",
    "1. Pay particular attention to the beginning (opening) and ending (closing) of your presentation.\n",
    "\n",
    "2. Distill your message to its most important takeway and repeat it often. To find your key takeaway, repeatedly ask yourself \"to what end?\" so that you get to your most important message.\n",
    "\n",
    "3. Think about each person in your audience and why they need to care about your message.\n",
    "\n",
    "4. Consider the hesitations that each person in your audience might have surrounding your message.\n",
    "\n",
    "5. Use rhetorical devices to capture your audience's attention.\n",
    "\n",
    "6. Include visual aids but do not rely on them excessively.\n",
    "\n",
    "7. Point at your slides but be sure not to talk towards them.\n",
    "\n",
    "8. Make eye contact, starting with friendly faces in the audience if needed to calm your nerves.\n",
    "\n",
    "While these skills are important for professionals presenting their work, sometimes companies find it to be necessary to hire a specialist. Often times, consultants with decades of experience crafting presentations will be brought into the process to figure out the perfect way to get across a message. \n"
   ]
  },
  {
   "cell_type": "markdown",
   "id": "7b865fd4-7068-4b53-ae9c-0ed84a1c900c",
   "metadata": {},
   "source": [
    "## Business Communications according to AI\n",
    "ChatGPT 4o is quickly able to generate lists of skills for great professional presentations. In Exercise 1 in the Prompting Appendix, three such lists are shown. Across the three lists, the LLM put the most emphasis on (1) having a clear and concise message, (2) storytelling, and (3) using body language, especially eye contact, to convey trust. Two of the three output lists contain mentions of brevity, calls to action, and clear presentation structure. Just one of the three lists mentions visual aids. "
   ]
  },
  {
   "cell_type": "markdown",
   "id": "dfecc9ed-456f-405f-9a7a-acd201ce1b36",
   "metadata": {},
   "source": [
    "## Comparison \n",
    "Traditional sources of business presentation trainings consider various aspects of the presentation: body language, presentation topic, visual aids, and the audience. On the other hand, ChatGPT's understanding of business presentation skills is focused on mainly the content of the presentation and body language. This makes me wonder to what extent LLMs are able to consider the audience of presentations. "
   ]
  },
  {
   "cell_type": "code",
   "execution_count": null,
   "id": "e5fc41d5-eeef-4f11-8910-b5a970b1927e",
   "metadata": {},
   "outputs": [],
   "source": []
  }
 ],
 "metadata": {
  "kernelspec": {
   "display_name": "Python 3-12 (COMM4190)",
   "language": "python",
   "name": "python3-12_comm4190"
  },
  "language_info": {
   "codemirror_mode": {
    "name": "ipython",
    "version": 3
   },
   "file_extension": ".py",
   "mimetype": "text/x-python",
   "name": "python",
   "nbconvert_exporter": "python",
   "pygments_lexer": "ipython3",
   "version": "3.12.8"
  }
 },
 "nbformat": 4,
 "nbformat_minor": 5
}
